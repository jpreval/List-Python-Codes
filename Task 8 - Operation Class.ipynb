{
 "cells": [
  {
   "cell_type": "code",
   "execution_count": null,
   "metadata": {
    "collapsed": true
   },
   "outputs": [],
   "source": [
    "def mean(x):\n",
    "    total = sum(x)\n",
    "    lenght = len(x)\n",
    "    return int(total/lenght)\n",
    "\n",
    "def median(x):\n",
    "    lenght = len(x)\n",
    "    half = int(lenght/2)\n",
    "    if lenght%2 == 0:\n",
    "        total = x[half-1] +  x[half]\n",
    "        return total/2\n",
    "    if lenght%2 !=0:\n",
    "        return x[half]\n",
    "\n",
    "\n",
    "def mode(x):\n",
    "    df = {i:x.count(i) for i in x}\n",
    "    #return df, max(df, key=df.get)\n",
    "    x = sorted(((v,k) for k,v in df.items()))\n",
    "    if f[-1][0] == f[-2][0]:\n",
    "        return \"None\"\n",
    "    else:\n",
    "        return f[-1][1]"
   ]
  },
  {
   "cell_type": "code",
   "execution_count": 9,
   "metadata": {
    "collapsed": true
   },
   "outputs": [],
   "source": [
    "class Operation:\n",
    "    \n",
    "    def __init__(self,x):\n",
    "        self.x = x\n",
    "    \n",
    "    def mean(self):\n",
    "        #total = sum(self.x)\n",
    "        #lenght = len(self.x)\n",
    "        return int(len(self.x)/sum(self.x))\n",
    "    \n",
    "    def median(self):\n",
    "        lenght = len(self.x)\n",
    "        half = int(lenght/2)\n",
    "        if lenght%2 == 0:\n",
    "            total = self.x[half-1] +  self.x[half]\n",
    "            return total/2\n",
    "        if lenght%2 !=0:\n",
    "            return self.x[half]\n",
    "    \n",
    "    def mode(self):\n",
    "        df = {i:self.x.count(i) for i in self.x}\n",
    "        #return df, max(df, key=df.get)\n",
    "        f = sorted(((v,k) for k,v in df.items()))\n",
    "        if f[-1][0] == f[-2][0]:\n",
    "            return \"None\"\n",
    "        else:\n",
    "            return f[-1][1]"
   ]
  },
  {
   "cell_type": "code",
   "execution_count": 14,
   "metadata": {
    "collapsed": true
   },
   "outputs": [],
   "source": [
    "l1 = Operation([20,40,2,2])"
   ]
  },
  {
   "cell_type": "code",
   "execution_count": 13,
   "metadata": {},
   "outputs": [
    {
     "data": {
      "text/plain": [
       "30"
      ]
     },
     "execution_count": 13,
     "metadata": {},
     "output_type": "execute_result"
    }
   ],
   "source": [
    "l1.mean()"
   ]
  },
  {
   "cell_type": "code",
   "execution_count": 15,
   "metadata": {},
   "outputs": [
    {
     "data": {
      "text/plain": [
       "2"
      ]
     },
     "execution_count": 15,
     "metadata": {},
     "output_type": "execute_result"
    }
   ],
   "source": [
    "l1.mode()"
   ]
  }
 ],
 "metadata": {
  "kernelspec": {
   "display_name": "Python 3",
   "language": "python",
   "name": "python3"
  },
  "language_info": {
   "codemirror_mode": {
    "name": "ipython",
    "version": 3
   },
   "file_extension": ".py",
   "mimetype": "text/x-python",
   "name": "python",
   "nbconvert_exporter": "python",
   "pygments_lexer": "ipython3",
   "version": "3.6.3"
  }
 },
 "nbformat": 4,
 "nbformat_minor": 2
}
