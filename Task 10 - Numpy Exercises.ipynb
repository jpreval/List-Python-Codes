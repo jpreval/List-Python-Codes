{
 "cells": [
  {
   "cell_type": "code",
   "execution_count": 1,
   "metadata": {
    "collapsed": true
   },
   "outputs": [],
   "source": [
    "## Write each function below according to the docstring.\n",
    "\n",
    "\n",
    "def max_lists(list1, list2):\n",
    "    \"\"\"\n",
    "    list1 and list2 have the same length.\n",
    "    Return a list which contains, for each index,\n",
    "    the maximum element of both list at this index.\n",
    "\n",
    "    Parameters\n",
    "    ----------\n",
    "    list1 : {list} of numeric values\n",
    "    list2 : {list} of numeric values\n",
    "\n",
    "    Returns\n",
    "    -------\n",
    "    {list} : list of maximum values for each index of list1,list2\n",
    "\n",
    "    Example\n",
    "    -------\n",
    "    >>> max_lists([1, 4, 8], [3, 1, 9])\n",
    "    [3, 4, 9]\n",
    "    >>> max_lists([5, 7, 2, 3, 6], [3, 9, 1, 2, 8])\n",
    "    [5, 9, 2, 3, 8]\n",
    "    \"\"\"\n",
    "    Newlist = []\n",
    "    for i in range(len(list1)):\n",
    "        if list1[i] > list2[i]:\n",
    "            Newlist.append(list1[i])\n",
    "        elif list1[i] > list2[i]:\n",
    "            Newlist.append(list2[i])\n",
    "        else:\n",
    "            Newlist.append(list2[i])\n",
    "    return Newlist\n",
    "\n",
    "\n",
    "\n",
    "\n",
    "\n",
    "\n",
    "\n",
    "\n",
    "\n"
   ]
  },
  {
   "cell_type": "code",
   "execution_count": 4,
   "metadata": {},
   "outputs": [
    {
     "data": {
      "text/plain": [
       "[5, 9, 2, 3, 8]"
      ]
     },
     "execution_count": 4,
     "metadata": {},
     "output_type": "execute_result"
    }
   ],
   "source": [
    "max_lists([5, 7, 2, 3, 6], [5, 9, 1, 2, 8])"
   ]
  },
  {
   "cell_type": "code",
   "execution_count": 24,
   "metadata": {
    "collapsed": true
   },
   "outputs": [],
   "source": [
    "import numpy as np\n",
    "\n",
    "def get_diagonal(mat):\n",
    "    \"\"\"\n",
    "    Given a matrix encoded as a 2 dimensional python list, return a list\n",
    "    containing all the values in the diagonal starting at the index 0, 0.\n",
    "\n",
    "    Parameters\n",
    "    ----------\n",
    "    mat : 2 dimensional list ({list} of {list} of numeric values)\n",
    "\n",
    "    Returns\n",
    "    -------\n",
    "    {list} : values in the diagonal\n",
    "\n",
    "    Example\n",
    "    -------\n",
    "    E.g.\n",
    "    mat = [[1, 2], [3, 4], [5, 6]]\n",
    "    | 1  2 |\n",
    "    | 3  4 |\n",
    "    | 5  6 |\n",
    "    get_diagonal(mat) => [1, 4]\n",
    "\n",
    "    You may assume that the matrix is nonempty.\n",
    "\n",
    "    >>> get_diagonal([[1, 2], [3, 4], [5, 6]])\n",
    "    [1, 4]\n",
    "    \"\"\"\n",
    "    matrix = np.array(mat)\n",
    "    return matrix.diagonal()"
   ]
  },
  {
   "cell_type": "code",
   "execution_count": 25,
   "metadata": {},
   "outputs": [
    {
     "data": {
      "text/plain": [
       "array([1, 4])"
      ]
     },
     "execution_count": 25,
     "metadata": {},
     "output_type": "execute_result"
    }
   ],
   "source": [
    "get_diagonal([[1, 2], [3, 4], [5, 6]])"
   ]
  },
  {
   "cell_type": "code",
   "execution_count": 28,
   "metadata": {
    "collapsed": true
   },
   "outputs": [],
   "source": [
    "from collections import Counter\n",
    "def merge_dictionaries(d1, d2):\n",
    "    \"\"\"\n",
    "    Return a new dictionary which contains all the keys from d1 and d2 with\n",
    "    their associated values. If a key is in both dictionaries, the value should\n",
    "    be the sum of the two values.\n",
    "\n",
    "    Parameters\n",
    "    ----------\n",
    "    d1 : {dict}\n",
    "    d2 : {dict}\n",
    "\n",
    "    Returns\n",
    "    -------\n",
    "    {dict} : values in the diagonal\n",
    "\n",
    "    Example\n",
    "    -------\n",
    "    >>> d1 = {\"a\": 1, \"b\": 5, \"c\": 1, \"e\": 8}\n",
    "    >>> d2 = {\"b\": 2, \"c\": 5, \"d\": 10, \"f\": 6}\n",
    "    >>> merge_dictionaries(d1,d2) == {\"a\": 1, \"b\": 7, \"c\": 6, \"d\": 10, \"e\": 8, \"f\": 6}\n",
    "    True\n",
    "    \"\"\"\n",
    "    a = Counter(d1)\n",
    "    b = Counter(d2)\n",
    "    z = a+b\n",
    "    return z"
   ]
  },
  {
   "cell_type": "code",
   "execution_count": 29,
   "metadata": {},
   "outputs": [
    {
     "data": {
      "text/plain": [
       "Counter({'a': 1, 'b': 7, 'c': 6, 'd': 10, 'e': 8, 'f': 6})"
      ]
     },
     "execution_count": 29,
     "metadata": {},
     "output_type": "execute_result"
    }
   ],
   "source": [
    "d1 = {\"a\": 1, \"b\": 5, \"c\": 1, \"e\": 8}\n",
    "d2 = {\"b\": 2, \"c\": 5, \"d\": 10, \"f\": 6}\n",
    "merge_dictionaries(d1,d2)"
   ]
  },
  {
   "cell_type": "code",
   "execution_count": 2,
   "metadata": {
    "collapsed": true
   },
   "outputs": [],
   "source": [
    "from collections import Counter\n",
    "def make_char_dict(filename):\n",
    "    \"\"\"\n",
    "    Given a file containing rows of text, create a dictionary with keys\n",
    "    of single characters. The value is a list of all the line numbers which\n",
    "    start with that letter. The first line should have line number 1.\n",
    "    Characters which never are the first letter of a line do not need to be\n",
    "    included in your dictionary.\n",
    "\n",
    "    Parameters\n",
    "    ----------\n",
    "    filename : {string} indicating path to file\n",
    "\n",
    "    Returns\n",
    "    -------\n",
    "    {dict} : keys are {str} and values are {list}\n",
    "\n",
    "    Example\n",
    "    -------\n",
    "    >>> result = make_char_dict('data/people.txt')\n",
    "    >>> result['j']\n",
    "    [2, 19, 20]\n",
    "    >>> result['g']\n",
    "    [3]\n",
    "    \"\"\"\n",
    "    file = filename + '.txt'\n",
    "    text = []\n",
    "    \n",
    "    with open(file, 'r') as f: #open the file\n",
    "        contents = f.readlines() #put the lines to a variable (list).\n",
    "        for i in contents:\n",
    "            letter = i[0].lower()\n",
    "            text.append(letter)\n",
    "    newdict = Counter(text)\n",
    "    return newdict\n",
    "    \n",
    "    \n",
    "        "
   ]
  },
  {
   "cell_type": "code",
   "execution_count": 3,
   "metadata": {
    "scrolled": true
   },
   "outputs": [
    {
     "data": {
      "text/plain": [
       "1"
      ]
     },
     "execution_count": 3,
     "metadata": {},
     "output_type": "execute_result"
    }
   ],
   "source": [
    "a = make_char_dict('test')\n",
    "a['f']"
   ]
  },
  {
   "cell_type": "code",
   "execution_count": 56,
   "metadata": {},
   "outputs": [
    {
     "data": {
      "text/plain": [
       "'test.txt'"
      ]
     },
     "execution_count": 56,
     "metadata": {},
     "output_type": "execute_result"
    }
   ],
   "source": [
    "filename = 'test'\n",
    "file = filename + '.txt'\n",
    "file"
   ]
  },
  {
   "cell_type": "code",
   "execution_count": 51,
   "metadata": {},
   "outputs": [
    {
     "name": "stdout",
     "output_type": "stream",
     "text": [
      "['The defendants allegedly.\\n', 'posed as US persons, created.\\n', 'false US personas and operated social.\\n', 'media pages and groups designed to attract US audiences, the indictment reads.\\n', 'The Internet Research Agency had a \"strategic goal to sow discord in the US political system\" including the election, according to the indictment.']\n"
     ]
    }
   ],
   "source": [
    "with open('test.txt', 'r') as f: #open the file\n",
    "    contents = f.readlines() #put the lines to a variable (list).\n",
    "    print(contents)"
   ]
  },
  {
   "cell_type": "code",
   "execution_count": 67,
   "metadata": {
    "scrolled": true
   },
   "outputs": [
    {
     "data": {
      "text/plain": [
       "5"
      ]
     },
     "execution_count": 67,
     "metadata": {},
     "output_type": "execute_result"
    }
   ],
   "source": [
    "len(contents)"
   ]
  },
  {
   "cell_type": "code",
   "execution_count": null,
   "metadata": {
    "collapsed": true
   },
   "outputs": [],
   "source": []
  }
 ],
 "metadata": {
  "kernelspec": {
   "display_name": "Python 3",
   "language": "python",
   "name": "python3"
  },
  "language_info": {
   "codemirror_mode": {
    "name": "ipython",
    "version": 3
   },
   "file_extension": ".py",
   "mimetype": "text/x-python",
   "name": "python",
   "nbconvert_exporter": "python",
   "pygments_lexer": "ipython3",
   "version": "3.6.3"
  }
 },
 "nbformat": 4,
 "nbformat_minor": 2
}
