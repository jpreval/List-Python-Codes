{
 "cells": [
  {
   "cell_type": "code",
   "execution_count": null,
   "metadata": {
    "collapsed": true
   },
   "outputs": [],
   "source": [
    "\"\"\"\n",
    "Task #9 for beginning of Monday's class. Design a Python class called Card, \n",
    "and then  a Python class called Deck that represents a deck of cards. \n",
    "The cards should have four suits (hearts spades clubs and diamonds) and go from 2 to Ace like normal playing cards.\n",
    "\n",
    "Make a list of attributes and methods that your Card and Deck classes should have, and implement them as time permits\n",
    "\n",
    "\"\"\"\n",
    "\n"
   ]
  },
  {
   "cell_type": "code",
   "execution_count": 5,
   "metadata": {},
   "outputs": [],
   "source": [
    "class Card:\n",
    "    \"\"\"\n",
    "    \n",
    "    Attributes are given. they should always be __int__\n",
    "    \n",
    "    \"\"\"\n",
    "    R = {'2','3','4','5','6','7','8','9','Jack','King','Queen','Ace'}\n",
    "    S = {'Diamonds', 'Clubs', 'Hearts', 'Spades'}\n",
    "    \n",
    "    def __init__(self,rank,suit):\n",
    "        if rank not in Card.R or suit not in Card.S:\n",
    "            raise ValueError('Error in Rank or Suit name. TRY AGAIN')\n",
    "        self.rank = rank\n",
    "        self.suit = suit\n",
    "\n",
    "    \"\"\"\n",
    "    Methods are other functions that your class has inside other than __init___\n",
    "    \"\"\"\n"
   ]
  },
  {
   "cell_type": "code",
   "execution_count": 7,
   "metadata": {},
   "outputs": [],
   "source": [
    "t = Card('Ace','Spades')"
   ]
  },
  {
   "cell_type": "code",
   "execution_count": 8,
   "metadata": {},
   "outputs": [
    {
     "data": {
      "text/plain": [
       "'Ace'"
      ]
     },
     "execution_count": 8,
     "metadata": {},
     "output_type": "execute_result"
    }
   ],
   "source": [
    "t.rank"
   ]
  },
  {
   "cell_type": "code",
   "execution_count": 14,
   "metadata": {
    "collapsed": true
   },
   "outputs": [],
   "source": [
    "class Deck:\n",
    "    \"\"\"\n",
    "    Atributes:\n",
    "    1) how many \n",
    "    \"\"\"\n",
    "\n",
    "            \n",
    "    def __init__(self):\n",
    "        self.DeckList = [] # creating a new variable\n",
    "        for rank in Card.R:\n",
    "            for suit in Card.S:\n",
    "                self.DeckList.append(Card(rank,suit))\n",
    "        "
   ]
  },
  {
   "cell_type": "code",
   "execution_count": 15,
   "metadata": {},
   "outputs": [],
   "source": [
    "t = Deck()"
   ]
  },
  {
   "cell_type": "code",
   "execution_count": 16,
   "metadata": {},
   "outputs": [
    {
     "data": {
      "text/plain": [
       "<__main__.Deck at 0x1120a6208>"
      ]
     },
     "execution_count": 16,
     "metadata": {},
     "output_type": "execute_result"
    }
   ],
   "source": []
  },
  {
   "cell_type": "code",
   "execution_count": 17,
   "metadata": {},
   "outputs": [
    {
     "name": "stdout",
     "output_type": "stream",
     "text": [
      "Collecting GitPython\n",
      "  Downloading GitPython-2.1.8-py2.py3-none-any.whl (448kB)\n",
      "\u001b[K    100% |████████████████████████████████| 450kB 1.1MB/s ta 0:00:011\n",
      "\u001b[?25hCollecting gitdb2>=2.0.0 (from GitPython)\n",
      "  Downloading gitdb2-2.0.3-py2.py3-none-any.whl (63kB)\n",
      "\u001b[K    100% |████████████████████████████████| 71kB 3.6MB/s ta 0:00:011\n",
      "\u001b[?25hCollecting smmap2>=2.0.0 (from gitdb2>=2.0.0->GitPython)\n",
      "  Downloading smmap2-2.0.3-py2.py3-none-any.whl\n",
      "Installing collected packages: smmap2, gitdb2, GitPython\n",
      "Successfully installed GitPython-2.1.8 gitdb2-2.0.3 smmap2-2.0.3\n"
     ]
    }
   ],
   "source": [
    "!pip install GitPython"
   ]
  },
  {
   "cell_type": "code",
   "execution_count": null,
   "metadata": {
    "collapsed": true
   },
   "outputs": [],
   "source": []
  }
 ],
 "metadata": {
  "kernelspec": {
   "display_name": "Python 3",
   "language": "python",
   "name": "python3"
  },
  "language_info": {
   "codemirror_mode": {
    "name": "ipython",
    "version": 3
   },
   "file_extension": ".py",
   "mimetype": "text/x-python",
   "name": "python",
   "nbconvert_exporter": "python",
   "pygments_lexer": "ipython3",
   "version": "3.6.3"
  }
 },
 "nbformat": 4,
 "nbformat_minor": 2
}
